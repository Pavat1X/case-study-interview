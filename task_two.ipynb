{
 "cells": [
  {
   "cell_type": "code",
   "execution_count": 971,
   "metadata": {},
   "outputs": [],
   "source": [
    "import pandas as pd\n",
    "import numpy as np"
   ]
  },
  {
   "cell_type": "markdown",
   "metadata": {},
   "source": [
    "### Importing and processing the data for analysis"
   ]
  },
  {
   "cell_type": "code",
   "execution_count": 972,
   "metadata": {},
   "outputs": [],
   "source": [
    "data = pd.read_excel('Datasheet - Conversions - Data Analysis.xlsx')"
   ]
  },
  {
   "cell_type": "code",
   "execution_count": 973,
   "metadata": {},
   "outputs": [
    {
     "data": {
      "text/html": [
       "<div>\n",
       "<style scoped>\n",
       "    .dataframe tbody tr th:only-of-type {\n",
       "        vertical-align: middle;\n",
       "    }\n",
       "\n",
       "    .dataframe tbody tr th {\n",
       "        vertical-align: top;\n",
       "    }\n",
       "\n",
       "    .dataframe thead th {\n",
       "        text-align: right;\n",
       "    }\n",
       "</style>\n",
       "<table border=\"1\" class=\"dataframe\">\n",
       "  <thead>\n",
       "    <tr style=\"text-align: right;\">\n",
       "      <th></th>\n",
       "      <th>Customer ID</th>\n",
       "      <th>Registration Date</th>\n",
       "      <th>Source</th>\n",
       "      <th>First Purchase Date</th>\n",
       "      <th>Date Second Purchase</th>\n",
       "      <th>Last Purchase</th>\n",
       "      <th>Total Orders</th>\n",
       "    </tr>\n",
       "  </thead>\n",
       "  <tbody>\n",
       "    <tr>\n",
       "      <th>0</th>\n",
       "      <td>3024.0</td>\n",
       "      <td>2019-11-07</td>\n",
       "      <td>Email</td>\n",
       "      <td>NaN</td>\n",
       "      <td>NaT</td>\n",
       "      <td>NaN</td>\n",
       "      <td>NaN</td>\n",
       "    </tr>\n",
       "    <tr>\n",
       "      <th>1</th>\n",
       "      <td>3040.0</td>\n",
       "      <td>2019-11-10</td>\n",
       "      <td>Email</td>\n",
       "      <td>NaN</td>\n",
       "      <td>NaT</td>\n",
       "      <td>NaN</td>\n",
       "      <td>NaN</td>\n",
       "    </tr>\n",
       "    <tr>\n",
       "      <th>2</th>\n",
       "      <td>3041.0</td>\n",
       "      <td>2019-11-10</td>\n",
       "      <td>Email</td>\n",
       "      <td>NaN</td>\n",
       "      <td>NaT</td>\n",
       "      <td>NaN</td>\n",
       "      <td>NaN</td>\n",
       "    </tr>\n",
       "    <tr>\n",
       "      <th>3</th>\n",
       "      <td>3042.0</td>\n",
       "      <td>2019-11-10</td>\n",
       "      <td>Email</td>\n",
       "      <td>NaN</td>\n",
       "      <td>NaT</td>\n",
       "      <td>NaN</td>\n",
       "      <td>NaN</td>\n",
       "    </tr>\n",
       "    <tr>\n",
       "      <th>4</th>\n",
       "      <td>3049.0</td>\n",
       "      <td>2019-11-12</td>\n",
       "      <td>Email</td>\n",
       "      <td>NaN</td>\n",
       "      <td>NaT</td>\n",
       "      <td>NaN</td>\n",
       "      <td>NaN</td>\n",
       "    </tr>\n",
       "  </tbody>\n",
       "</table>\n",
       "</div>"
      ],
      "text/plain": [
       "   Customer ID Registration Date Source First Purchase Date  \\\n",
       "0       3024.0        2019-11-07  Email                 NaN   \n",
       "1       3040.0        2019-11-10  Email                 NaN   \n",
       "2       3041.0        2019-11-10  Email                 NaN   \n",
       "3       3042.0        2019-11-10  Email                 NaN   \n",
       "4       3049.0        2019-11-12  Email                 NaN   \n",
       "\n",
       "  Date Second Purchase Last Purchase  Total Orders  \n",
       "0                  NaT           NaN           NaN  \n",
       "1                  NaT           NaN           NaN  \n",
       "2                  NaT           NaN           NaN  \n",
       "3                  NaT           NaN           NaN  \n",
       "4                  NaT           NaN           NaN  "
      ]
     },
     "execution_count": 973,
     "metadata": {},
     "output_type": "execute_result"
    }
   ],
   "source": [
    "data.head()"
   ]
  },
  {
   "cell_type": "markdown",
   "metadata": {},
   "source": [
    "### Checking data types for consistency"
   ]
  },
  {
   "cell_type": "code",
   "execution_count": 974,
   "metadata": {},
   "outputs": [
    {
     "data": {
      "text/plain": [
       "Customer ID                    float64\n",
       "Registration Date       datetime64[ns]\n",
       "Source                          object\n",
       "First Purchase Date             object\n",
       "Date Second Purchase    datetime64[ns]\n",
       "Last Purchase                   object\n",
       "Total Orders                   float64\n",
       "dtype: object"
      ]
     },
     "execution_count": 974,
     "metadata": {},
     "output_type": "execute_result"
    }
   ],
   "source": [
    "data.dtypes"
   ]
  },
  {
   "cell_type": "markdown",
   "metadata": {},
   "source": [
    "Changing the dtypes to relevant formats"
   ]
  },
  {
   "cell_type": "code",
   "execution_count": null,
   "metadata": {},
   "outputs": [],
   "source": [
    "## remove weird missing entry\n",
    "data['Last Purchase'].loc[2286] = np.nan"
   ]
  },
  {
   "cell_type": "code",
   "execution_count": 976,
   "metadata": {},
   "outputs": [],
   "source": [
    "data['Source'] = data['Source'].astype('str')\n",
    "data['First Purchase Date'] = data['First Purchase Date'].astype('datetime64[ns]')\n",
    "data['Last Purchase'] = data['Last Purchase'].astype('datetime64[ns]')"
   ]
  },
  {
   "cell_type": "code",
   "execution_count": 977,
   "metadata": {},
   "outputs": [
    {
     "data": {
      "text/html": [
       "<div>\n",
       "<style scoped>\n",
       "    .dataframe tbody tr th:only-of-type {\n",
       "        vertical-align: middle;\n",
       "    }\n",
       "\n",
       "    .dataframe tbody tr th {\n",
       "        vertical-align: top;\n",
       "    }\n",
       "\n",
       "    .dataframe thead th {\n",
       "        text-align: right;\n",
       "    }\n",
       "</style>\n",
       "<table border=\"1\" class=\"dataframe\">\n",
       "  <thead>\n",
       "    <tr style=\"text-align: right;\">\n",
       "      <th></th>\n",
       "      <th>Customer ID</th>\n",
       "      <th>Registration Date</th>\n",
       "      <th>Source</th>\n",
       "      <th>First Purchase Date</th>\n",
       "      <th>Date Second Purchase</th>\n",
       "      <th>Last Purchase</th>\n",
       "      <th>Total Orders</th>\n",
       "    </tr>\n",
       "  </thead>\n",
       "  <tbody>\n",
       "    <tr>\n",
       "      <th>0</th>\n",
       "      <td>3024.0</td>\n",
       "      <td>2019-11-07</td>\n",
       "      <td>Email</td>\n",
       "      <td>NaT</td>\n",
       "      <td>NaT</td>\n",
       "      <td>NaT</td>\n",
       "      <td>NaN</td>\n",
       "    </tr>\n",
       "    <tr>\n",
       "      <th>1</th>\n",
       "      <td>3040.0</td>\n",
       "      <td>2019-11-10</td>\n",
       "      <td>Email</td>\n",
       "      <td>NaT</td>\n",
       "      <td>NaT</td>\n",
       "      <td>NaT</td>\n",
       "      <td>NaN</td>\n",
       "    </tr>\n",
       "    <tr>\n",
       "      <th>2</th>\n",
       "      <td>3041.0</td>\n",
       "      <td>2019-11-10</td>\n",
       "      <td>Email</td>\n",
       "      <td>NaT</td>\n",
       "      <td>NaT</td>\n",
       "      <td>NaT</td>\n",
       "      <td>NaN</td>\n",
       "    </tr>\n",
       "    <tr>\n",
       "      <th>3</th>\n",
       "      <td>3042.0</td>\n",
       "      <td>2019-11-10</td>\n",
       "      <td>Email</td>\n",
       "      <td>NaT</td>\n",
       "      <td>NaT</td>\n",
       "      <td>NaT</td>\n",
       "      <td>NaN</td>\n",
       "    </tr>\n",
       "    <tr>\n",
       "      <th>4</th>\n",
       "      <td>3049.0</td>\n",
       "      <td>2019-11-12</td>\n",
       "      <td>Email</td>\n",
       "      <td>NaT</td>\n",
       "      <td>NaT</td>\n",
       "      <td>NaT</td>\n",
       "      <td>NaN</td>\n",
       "    </tr>\n",
       "  </tbody>\n",
       "</table>\n",
       "</div>"
      ],
      "text/plain": [
       "   Customer ID Registration Date Source First Purchase Date  \\\n",
       "0       3024.0        2019-11-07  Email                 NaT   \n",
       "1       3040.0        2019-11-10  Email                 NaT   \n",
       "2       3041.0        2019-11-10  Email                 NaT   \n",
       "3       3042.0        2019-11-10  Email                 NaT   \n",
       "4       3049.0        2019-11-12  Email                 NaT   \n",
       "\n",
       "  Date Second Purchase Last Purchase  Total Orders  \n",
       "0                  NaT           NaT           NaN  \n",
       "1                  NaT           NaT           NaN  \n",
       "2                  NaT           NaT           NaN  \n",
       "3                  NaT           NaT           NaN  \n",
       "4                  NaT           NaT           NaN  "
      ]
     },
     "execution_count": 977,
     "metadata": {},
     "output_type": "execute_result"
    }
   ],
   "source": [
    "data.head()"
   ]
  },
  {
   "cell_type": "markdown",
   "metadata": {},
   "source": [
    "### Analysis of different cohorts"
   ]
  },
  {
   "cell_type": "markdown",
   "metadata": {},
   "source": [
    "##### Total order averages over the entire year"
   ]
  },
  {
   "cell_type": "code",
   "execution_count": 978,
   "metadata": {},
   "outputs": [
    {
     "data": {
      "text/html": [
       "<div>\n",
       "<style scoped>\n",
       "    .dataframe tbody tr th:only-of-type {\n",
       "        vertical-align: middle;\n",
       "    }\n",
       "\n",
       "    .dataframe tbody tr th {\n",
       "        vertical-align: top;\n",
       "    }\n",
       "\n",
       "    .dataframe thead th {\n",
       "        text-align: right;\n",
       "    }\n",
       "</style>\n",
       "<table border=\"1\" class=\"dataframe\">\n",
       "  <thead>\n",
       "    <tr style=\"text-align: right;\">\n",
       "      <th></th>\n",
       "      <th>Average Total Orders</th>\n",
       "    </tr>\n",
       "    <tr>\n",
       "      <th>Source</th>\n",
       "      <th></th>\n",
       "    </tr>\n",
       "  </thead>\n",
       "  <tbody>\n",
       "    <tr>\n",
       "      <th>Email</th>\n",
       "      <td>4.677419</td>\n",
       "    </tr>\n",
       "    <tr>\n",
       "      <th>Facebook</th>\n",
       "      <td>4.478070</td>\n",
       "    </tr>\n",
       "    <tr>\n",
       "      <th>Google / Other Search</th>\n",
       "      <td>3.883333</td>\n",
       "    </tr>\n",
       "    <tr>\n",
       "      <th>Instagram</th>\n",
       "      <td>3.352941</td>\n",
       "    </tr>\n",
       "    <tr>\n",
       "      <th>Pinterest</th>\n",
       "      <td>2.000000</td>\n",
       "    </tr>\n",
       "    <tr>\n",
       "      <th>Referral</th>\n",
       "      <td>4.554054</td>\n",
       "    </tr>\n",
       "    <tr>\n",
       "      <th>nan</th>\n",
       "      <td>5.200000</td>\n",
       "    </tr>\n",
       "  </tbody>\n",
       "</table>\n",
       "</div>"
      ],
      "text/plain": [
       "                       Average Total Orders\n",
       "Source                                     \n",
       "Email                              4.677419\n",
       "Facebook                           4.478070\n",
       "Google / Other Search              3.883333\n",
       "Instagram                          3.352941\n",
       "Pinterest                          2.000000\n",
       "Referral                           4.554054\n",
       "nan                                5.200000"
      ]
     },
     "execution_count": 978,
     "metadata": {},
     "output_type": "execute_result"
    }
   ],
   "source": [
    "## copying the original data for manipulation (remove missing data)\n",
    "data_mean = data.copy(deep=True)\n",
    "data_mean = data_mean.dropna()\n",
    "\n",
    "## calculating the table of average total orders for each source\n",
    "data_mean_show = data_mean[['Total Orders', 'Source']].groupby('Source').mean()\n",
    "data_mean_show = data_mean_show.rename(columns={'Total Orders': 'Average Total Orders'})\n",
    "data_mean_show"
   ]
  },
  {
   "cell_type": "code",
   "execution_count": 979,
   "metadata": {},
   "outputs": [
    {
     "data": {
      "text/plain": [
       "<Axes: xlabel='Source'>"
      ]
     },
     "execution_count": 979,
     "metadata": {},
     "output_type": "execute_result"
    },
    {
     "data": {
      "image/png": "[encoded data removed]",
      "text/plain": [
       "<Figure size 640x480 with 1 Axes>"
      ]
     },
     "metadata": {},
     "output_type": "display_data"
    }
   ],
   "source": [
    "data_mean_show.plot.bar()"
   ]
  },
  {
   "cell_type": "markdown",
   "metadata": {},
   "source": [
    "From the table above, we can see that from all the channels, Email, Referral, and Facebook drive the most sales (and possibly traffic/conversion). This may be due to the nature of the wholesale market where the demand side is composed of retail businesses or similar, whose employees and owners usually operate in these spaces. Interesting observation is Instagram and Pinterest, which could signify other cohorts within the demand side, such as consumers.\n",
    "\n",
    "Further data on traffic from source, click-through rates and user journey from channel to website would be nice, as it would allow me to know more about how these channels bring in customers and what the customers are like. This will all contribute to tailoring the product/user experience to the customers."
   ]
  },
  {
   "cell_type": "markdown",
   "metadata": {},
   "source": [
    "Note that we have removed a lot of missing data from the sample. However, since we are dealing with averages, and the sample size is still greater than 30 and 50, the law of large numbers should apply and the averages calculate above should be close to the true value"
   ]
  },
  {
   "cell_type": "markdown",
   "metadata": {},
   "source": [
    "##### Conversion contribution from each source"
   ]
  },
  {
   "cell_type": "code",
   "execution_count": 980,
   "metadata": {},
   "outputs": [
    {
     "data": {
      "text/html": [
       "<div>\n",
       "<style scoped>\n",
       "    .dataframe tbody tr th:only-of-type {\n",
       "        vertical-align: middle;\n",
       "    }\n",
       "\n",
       "    .dataframe tbody tr th {\n",
       "        vertical-align: top;\n",
       "    }\n",
       "\n",
       "    .dataframe thead tr th {\n",
       "        text-align: left;\n",
       "    }\n",
       "\n",
       "    .dataframe thead tr:last-of-type th {\n",
       "        text-align: right;\n",
       "    }\n",
       "</style>\n",
       "<table border=\"1\" class=\"dataframe\">\n",
       "  <thead>\n",
       "    <tr>\n",
       "      <th></th>\n",
       "      <th>First Purchase Date</th>\n",
       "    </tr>\n",
       "    <tr>\n",
       "      <th></th>\n",
       "      <th>count</th>\n",
       "    </tr>\n",
       "    <tr>\n",
       "      <th>Source</th>\n",
       "      <th></th>\n",
       "    </tr>\n",
       "  </thead>\n",
       "  <tbody>\n",
       "    <tr>\n",
       "      <th>Email</th>\n",
       "      <td>31</td>\n",
       "    </tr>\n",
       "    <tr>\n",
       "      <th>Facebook</th>\n",
       "      <td>228</td>\n",
       "    </tr>\n",
       "    <tr>\n",
       "      <th>Google / Other Search</th>\n",
       "      <td>180</td>\n",
       "    </tr>\n",
       "    <tr>\n",
       "      <th>Instagram</th>\n",
       "      <td>51</td>\n",
       "    </tr>\n",
       "    <tr>\n",
       "      <th>Pinterest</th>\n",
       "      <td>1</td>\n",
       "    </tr>\n",
       "    <tr>\n",
       "      <th>Referral</th>\n",
       "      <td>74</td>\n",
       "    </tr>\n",
       "    <tr>\n",
       "      <th>nan</th>\n",
       "      <td>70</td>\n",
       "    </tr>\n",
       "  </tbody>\n",
       "</table>\n",
       "</div>"
      ],
      "text/plain": [
       "                      First Purchase Date\n",
       "                                    count\n",
       "Source                                   \n",
       "Email                                  31\n",
       "Facebook                              228\n",
       "Google / Other Search                 180\n",
       "Instagram                              51\n",
       "Pinterest                               1\n",
       "Referral                               74\n",
       "nan                                    70"
      ]
     },
     "execution_count": 980,
     "metadata": {},
     "output_type": "execute_result"
    }
   ],
   "source": [
    "data_mean_conv = data_mean[['Source', 'First Purchase Date']]\n",
    "data_mean_conv = data_mean_conv.groupby(data_mean_conv['Source']).agg({'count'})\n",
    "data_mean_conv"
   ]
  },
  {
   "cell_type": "code",
   "execution_count": 981,
   "metadata": {},
   "outputs": [
    {
     "data": {
      "text/plain": [
       "<Axes: xlabel='Source'>"
      ]
     },
     "execution_count": 981,
     "metadata": {},
     "output_type": "execute_result"
    },
    {
     "data": {
      "image/png": "[encoded data removed]",
      "text/plain": [
       "<Figure size 640x480 with 1 Axes>"
      ]
     },
     "metadata": {},
     "output_type": "display_data"
    }
   ],
   "source": [
    "data_mean_conv.plot.bar()"
   ]
  },
  {
   "cell_type": "markdown",
   "metadata": {},
   "source": [
    "However, once we take a further look at the actual conversions, we can see that Facebook and search results drive the most registration-to-first-purchase conversions.\n",
    "\n",
    "The lack of conversions from referrals is interesting, despite it being one of the top three channels contributing to total purchase orders. This could suggest that the average ticket size for referred customers is higher than other sources."
   ]
  },
  {
   "cell_type": "markdown",
   "metadata": {},
   "source": [
    "##### Breaking down the total order frequency for each month"
   ]
  },
  {
   "cell_type": "markdown",
   "metadata": {},
   "source": [
    "creating a melted dataframe to stack all purchase occurrences"
   ]
  },
  {
   "cell_type": "code",
   "execution_count": 982,
   "metadata": {},
   "outputs": [],
   "source": [
    "data_month = data[['Customer ID', 'First Purchase Date', 'Date Second Purchase', 'Last Purchase']].copy(deep=True)\n",
    "\n",
    "data_month = data_month.rename(columns={'First Purchase Date': 'purchase.1',\n",
    "                           'Date Second Purchase': 'purchase.2',\n",
    "                           'Last Purchase': 'purchase.3'})\n",
    "\n",
    "data_month = data_month.melt('Customer ID', value_name='purchase')\n",
    "\n",
    "data_month = data_month.drop(columns='variable')\n",
    "\n",
    "data_month = data_month.set_index('Customer ID')"
   ]
  },
  {
   "cell_type": "markdown",
   "metadata": {},
   "source": [
    "aggregating the data by year and month"
   ]
  },
  {
   "cell_type": "code",
   "execution_count": 983,
   "metadata": {},
   "outputs": [
    {
     "data": {
      "text/html": [
       "<div>\n",
       "<style scoped>\n",
       "    .dataframe tbody tr th:only-of-type {\n",
       "        vertical-align: middle;\n",
       "    }\n",
       "\n",
       "    .dataframe tbody tr th {\n",
       "        vertical-align: top;\n",
       "    }\n",
       "\n",
       "    .dataframe thead tr th {\n",
       "        text-align: left;\n",
       "    }\n",
       "\n",
       "    .dataframe thead tr:last-of-type th {\n",
       "        text-align: right;\n",
       "    }\n",
       "</style>\n",
       "<table border=\"1\" class=\"dataframe\">\n",
       "  <thead>\n",
       "    <tr>\n",
       "      <th></th>\n",
       "      <th></th>\n",
       "      <th>purchase</th>\n",
       "    </tr>\n",
       "    <tr>\n",
       "      <th></th>\n",
       "      <th></th>\n",
       "      <th>count</th>\n",
       "    </tr>\n",
       "    <tr>\n",
       "      <th>year</th>\n",
       "      <th>month</th>\n",
       "      <th></th>\n",
       "    </tr>\n",
       "  </thead>\n",
       "  <tbody>\n",
       "    <tr>\n",
       "      <th rowspan=\"12\" valign=\"top\">2020.0</th>\n",
       "      <th>1.0</th>\n",
       "      <td>21</td>\n",
       "    </tr>\n",
       "    <tr>\n",
       "      <th>2.0</th>\n",
       "      <td>43</td>\n",
       "    </tr>\n",
       "    <tr>\n",
       "      <th>3.0</th>\n",
       "      <td>18</td>\n",
       "    </tr>\n",
       "    <tr>\n",
       "      <th>4.0</th>\n",
       "      <td>58</td>\n",
       "    </tr>\n",
       "    <tr>\n",
       "      <th>5.0</th>\n",
       "      <td>112</td>\n",
       "    </tr>\n",
       "    <tr>\n",
       "      <th>6.0</th>\n",
       "      <td>195</td>\n",
       "    </tr>\n",
       "    <tr>\n",
       "      <th>7.0</th>\n",
       "      <td>204</td>\n",
       "    </tr>\n",
       "    <tr>\n",
       "      <th>8.0</th>\n",
       "      <td>218</td>\n",
       "    </tr>\n",
       "    <tr>\n",
       "      <th>9.0</th>\n",
       "      <td>249</td>\n",
       "    </tr>\n",
       "    <tr>\n",
       "      <th>10.0</th>\n",
       "      <td>270</td>\n",
       "    </tr>\n",
       "    <tr>\n",
       "      <th>11.0</th>\n",
       "      <td>311</td>\n",
       "    </tr>\n",
       "    <tr>\n",
       "      <th>12.0</th>\n",
       "      <td>114</td>\n",
       "    </tr>\n",
       "    <tr>\n",
       "      <th rowspan=\"4\" valign=\"top\">2021.0</th>\n",
       "      <th>1.0</th>\n",
       "      <td>284</td>\n",
       "    </tr>\n",
       "    <tr>\n",
       "      <th>2.0</th>\n",
       "      <td>378</td>\n",
       "    </tr>\n",
       "    <tr>\n",
       "      <th>3.0</th>\n",
       "      <td>393</td>\n",
       "    </tr>\n",
       "    <tr>\n",
       "      <th>4.0</th>\n",
       "      <td>255</td>\n",
       "    </tr>\n",
       "  </tbody>\n",
       "</table>\n",
       "</div>"
      ],
      "text/plain": [
       "             purchase\n",
       "                count\n",
       "year   month         \n",
       "2020.0 1.0         21\n",
       "       2.0         43\n",
       "       3.0         18\n",
       "       4.0         58\n",
       "       5.0        112\n",
       "       6.0        195\n",
       "       7.0        204\n",
       "       8.0        218\n",
       "       9.0        249\n",
       "       10.0       270\n",
       "       11.0       311\n",
       "       12.0       114\n",
       "2021.0 1.0        284\n",
       "       2.0        378\n",
       "       3.0        393\n",
       "       4.0        255"
      ]
     },
     "execution_count": 983,
     "metadata": {},
     "output_type": "execute_result"
    }
   ],
   "source": [
    "data_month = data_month.groupby([data_month['purchase'].dt.year.rename('year'), data_month['purchase'].dt.month.rename('month')]).agg({'count'})\n",
    "data_month = data_month.drop(index=1970)\n",
    "data_month"
   ]
  },
  {
   "cell_type": "markdown",
   "metadata": {},
   "source": [
    "visualizing the trend"
   ]
  },
  {
   "cell_type": "code",
   "execution_count": 984,
   "metadata": {},
   "outputs": [
    {
     "data": {
      "text/plain": [
       "<Axes: title={'center': 'Purchases over time in 2020'}, xlabel='month', ylabel='No. of purchases'>"
      ]
     },
     "execution_count": 984,
     "metadata": {},
     "output_type": "execute_result"
    },
    {
     "data": {
      "image/png": "[encoded data removed]",
      "text/plain": [
       "<Figure size 640x480 with 1 Axes>"
      ]
     },
     "metadata": {},
     "output_type": "display_data"
    }
   ],
   "source": [
    "data_month.loc[2020].plot.bar(ylabel='No. of purchases', legend=False, title='Purchases over time in 2020')"
   ]
  },
  {
   "cell_type": "code",
   "execution_count": 985,
   "metadata": {},
   "outputs": [
    {
     "data": {
      "text/plain": [
       "<Axes: title={'center': 'Purchases over time in 2021'}, xlabel='month', ylabel='No. of purchases'>"
      ]
     },
     "execution_count": 985,
     "metadata": {},
     "output_type": "execute_result"
    },
    {
     "data": {
      "image/png": "[encoded data removed]",
      "text/plain": [
       "<Figure size 640x480 with 1 Axes>"
      ]
     },
     "metadata": {},
     "output_type": "display_data"
    }
   ],
   "source": [
    "data_month.loc[2021].plot.bar(ylabel='No. of purchases', legend=False, title='Purchases over time in 2021')"
   ]
  },
  {
   "cell_type": "markdown",
   "metadata": {},
   "source": [
    "Here, you can see that user purchase numbers fluctuate over the course of the year, suggesting some kind of seasonality. A more plausible reasoning is that the wholesale market is not a high frequency marketplace (think Uber, Deliveroo, etc), but a low frequency marketplace (think Healthcare, Insurance, etc.). This means that purchasing frequency will be very needs-based and situational. What we can do is to keep them constantly in the loop with direct-to-consumer marketing campaigns to remind them of our existence and cross-sell as much as possible.\n",
    "\n",
    "data on cross-purchasing behavior would be good for this."
   ]
  },
  {
   "cell_type": "markdown",
   "metadata": {},
   "source": [
    "##### Speed of conversion from clicking through"
   ]
  },
  {
   "cell_type": "code",
   "execution_count": 986,
   "metadata": {},
   "outputs": [],
   "source": [
    "## get in dt.days the difference between data['Registration Date']\n",
    "## and data['First Purchase Date']\n",
    "\n",
    "data_ret = data.copy(deep=True)\n",
    "data_ret_na = data.copy(deep=True)\n",
    "data_ret = data_ret.dropna()\n",
    "data_ret = data_ret.reset_index()\n",
    "data_ret['days_to_purchase'] = (data_ret['First Purchase Date'] - data_ret['Registration Date']).dt.days\n",
    "data_ret['days_to_purchase_2'] = (data_ret['Date Second Purchase'] - data_ret['First Purchase Date']).dt.days\n",
    "data_ret['days_to_purchase_3'] = (data_ret['Last Purchase'] - data_ret['Date Second Purchase']).dt.days\n",
    "data_ret['first_to_last_purchase'] = (data_ret['Last Purchase'] - data_ret['First Purchase Date']).dt.days\n",
    "\n",
    "data_ret = data_ret[['Customer ID', 'days_to_purchase', 'days_to_purchase_2', 'days_to_purchase_3', 'first_to_last_purchase']]"
   ]
  },
  {
   "cell_type": "code",
   "execution_count": 987,
   "metadata": {},
   "outputs": [
    {
     "data": {
      "text/plain": [
       "<Axes: >"
      ]
     },
     "execution_count": 987,
     "metadata": {},
     "output_type": "execute_result"
    },
    {
     "data": {
      "image/png": "[encoded data removed]",
      "text/plain": [
       "<Figure size 640x480 with 1 Axes>"
      ]
     },
     "metadata": {},
     "output_type": "display_data"
    }
   ],
   "source": [
    "data_ret_mean = pd.DataFrame(data_ret[['days_to_purchase', 'days_to_purchase_2', 'days_to_purchase_3', 'first_to_last_purchase']].mean())\n",
    "\n",
    "data_ret_mean = data_ret_mean.rename(columns={0: 'Average days to next purchase'})\n",
    "\n",
    "data_ret_mean.plot.bar()"
   ]
  },
  {
   "cell_type": "markdown",
   "metadata": {},
   "source": [
    "As you can see from the bar chart above, the average days to purchase is quite substantial: around 38 days from registration to first purchase, almost 50 days from first purchase to second purchase, and around 70 days from second purchase to third purchase. From a broader perspective, it takes around 120 days or almost 4 months for a customer to make 3 purchases on average.\n",
    "\n",
    "This supports my initial hypothesis that the wholesale market is a low frequency market. Hence, the urge to keep users in the loop through campaigns and acquiring new customers is paramount."
   ]
  },
  {
   "cell_type": "markdown",
   "metadata": {},
   "source": [
    "Since we removed a lot of missing data, only 635 entries remain. This may skew our results because of many reasons, such as missing out on customers who conducted less than 3 purchases.\n",
    "\n",
    "Let us see the results if we did not drop all missing data."
   ]
  },
  {
   "cell_type": "code",
   "execution_count": 988,
   "metadata": {},
   "outputs": [
    {
     "data": {
      "text/plain": [
       "<Axes: >"
      ]
     },
     "execution_count": 988,
     "metadata": {},
     "output_type": "execute_result"
    },
    {
     "data": {
      "image/png": "[encoded data removed]",
      "text/plain": [
       "<Figure size 640x480 with 1 Axes>"
      ]
     },
     "metadata": {},
     "output_type": "display_data"
    }
   ],
   "source": [
    "data_ret_null = data_ret_na[data_ret_na.isnull().any(axis=1)]\n",
    "\n",
    "data_ret_na['days_to_purchase'] = (data_ret_na['First Purchase Date'] - data_ret_na['Registration Date']).dt.days\n",
    "data_ret_na['days_to_purchase_2'] = (data_ret_na['Date Second Purchase'] - data_ret_na['First Purchase Date']).dt.days\n",
    "data_ret_na['days_to_purchase_3'] = (data_ret_na['Last Purchase'] - data_ret_na['Date Second Purchase']).dt.days\n",
    "data_ret_na['first_to_last_purchase'] = (data_ret_na['Last Purchase'] - data_ret_na['First Purchase Date']).dt.days\n",
    "\n",
    "data_ret_na = data_ret_na[['Customer ID', 'days_to_purchase', 'days_to_purchase_2', 'days_to_purchase_3', 'first_to_last_purchase']]\n",
    "\n",
    "data_ret_na_mean = pd.DataFrame(data_ret_na[['days_to_purchase', 'days_to_purchase_2', 'days_to_purchase_3', 'first_to_last_purchase']].mean())\n",
    "\n",
    "data_ret_na_mean = data_ret_na_mean.rename(columns={0: 'Average days to next purchase'})\n",
    "\n",
    "data_ret_na_mean.plot.bar()\n"
   ]
  },
  {
   "cell_type": "markdown",
   "metadata": {},
   "source": [
    "But we could do better; Entries which only have 2 transactions will have a missing second purchase date. Hence, we can push the last purchase date into the second purchase date and account for this."
   ]
  },
  {
   "cell_type": "code",
   "execution_count": 989,
   "metadata": {},
   "outputs": [],
   "source": [
    "data_ret_fix = data.copy(deep=True)\n",
    "\n",
    "data_ret_fix['Date Second Purchase'] = data_ret_fix['Date Second Purchase'].fillna(data_ret_fix['Last Purchase'])\n",
    "\n",
    "data_ret_fix['days_to_purchase'] = (data_ret_fix['First Purchase Date'] - data_ret_fix['Registration Date']).dt.days\n",
    "data_ret_fix['days_to_purchase_2'] = (data_ret_fix['Date Second Purchase'] - data_ret_fix['First Purchase Date']).dt.days\n",
    "data_ret_fix['days_to_purchase_3'] = (data_ret_fix['Last Purchase'] - data_ret_fix['Date Second Purchase']).dt.days\n",
    "data_ret_fix['first_to_last_purchase'] = (data_ret_fix['Last Purchase'] - data_ret_fix['First Purchase Date']).dt.days"
   ]
  },
  {
   "cell_type": "code",
   "execution_count": 990,
   "metadata": {},
   "outputs": [
    {
     "data": {
      "text/plain": [
       "<Axes: >"
      ]
     },
     "execution_count": 990,
     "metadata": {},
     "output_type": "execute_result"
    },
    {
     "data": {
      "image/png": "[encoded data removed]",
      "text/plain": [
       "<Figure size 640x480 with 1 Axes>"
      ]
     },
     "metadata": {},
     "output_type": "display_data"
    }
   ],
   "source": [
    "data_ret_fix = data_ret_fix[['Customer ID', 'days_to_purchase', 'days_to_purchase_2', 'days_to_purchase_3', 'first_to_last_purchase']]\n",
    "\n",
    "data_ret_fix_mean = pd.DataFrame(data_ret_fix[['days_to_purchase', 'days_to_purchase_2', 'days_to_purchase_3', 'first_to_last_purchase']].mean())\n",
    "\n",
    "data_ret_fix_mean = data_ret_fix_mean.rename(columns={0: 'Average days to next purchase'})\n",
    "\n",
    "data_ret_fix_mean = data_ret_fix_mean.fillna(0) \n",
    "\n",
    "data_ret_fix_mean.plot.bar()"
   ]
  },
  {
   "cell_type": "markdown",
   "metadata": {},
   "source": [
    "Here, we can see that the figures with missing entries accounted for is not so different from the one with missing entries removed, just with the time between purchases dampened due to 0's within the average. The general insight should be the same."
   ]
  },
  {
   "cell_type": "markdown",
   "metadata": {},
   "source": [
    "##### Retention Behavior"
   ]
  },
  {
   "cell_type": "code",
   "execution_count": 991,
   "metadata": {},
   "outputs": [
    {
     "data": {
      "text/html": [
       "<div>\n",
       "<style scoped>\n",
       "    .dataframe tbody tr th:only-of-type {\n",
       "        vertical-align: middle;\n",
       "    }\n",
       "\n",
       "    .dataframe tbody tr th {\n",
       "        vertical-align: top;\n",
       "    }\n",
       "\n",
       "    .dataframe thead th {\n",
       "        text-align: right;\n",
       "    }\n",
       "</style>\n",
       "<table border=\"1\" class=\"dataframe\">\n",
       "  <thead>\n",
       "    <tr style=\"text-align: right;\">\n",
       "      <th></th>\n",
       "      <th>Customer ID</th>\n",
       "      <th>Registration Date</th>\n",
       "      <th>Source</th>\n",
       "      <th>First Purchase Date</th>\n",
       "      <th>Date Second Purchase</th>\n",
       "      <th>Last Purchase</th>\n",
       "      <th>Total Orders</th>\n",
       "    </tr>\n",
       "  </thead>\n",
       "  <tbody>\n",
       "    <tr>\n",
       "      <th>0</th>\n",
       "      <td>3024.0</td>\n",
       "      <td>2019-11-07</td>\n",
       "      <td>Email</td>\n",
       "      <td>NaT</td>\n",
       "      <td>NaT</td>\n",
       "      <td>NaT</td>\n",
       "      <td>NaN</td>\n",
       "    </tr>\n",
       "    <tr>\n",
       "      <th>1</th>\n",
       "      <td>3040.0</td>\n",
       "      <td>2019-11-10</td>\n",
       "      <td>Email</td>\n",
       "      <td>NaT</td>\n",
       "      <td>NaT</td>\n",
       "      <td>NaT</td>\n",
       "      <td>NaN</td>\n",
       "    </tr>\n",
       "    <tr>\n",
       "      <th>2</th>\n",
       "      <td>3041.0</td>\n",
       "      <td>2019-11-10</td>\n",
       "      <td>Email</td>\n",
       "      <td>NaT</td>\n",
       "      <td>NaT</td>\n",
       "      <td>NaT</td>\n",
       "      <td>NaN</td>\n",
       "    </tr>\n",
       "    <tr>\n",
       "      <th>3</th>\n",
       "      <td>3042.0</td>\n",
       "      <td>2019-11-10</td>\n",
       "      <td>Email</td>\n",
       "      <td>NaT</td>\n",
       "      <td>NaT</td>\n",
       "      <td>NaT</td>\n",
       "      <td>NaN</td>\n",
       "    </tr>\n",
       "    <tr>\n",
       "      <th>4</th>\n",
       "      <td>3049.0</td>\n",
       "      <td>2019-11-12</td>\n",
       "      <td>Email</td>\n",
       "      <td>NaT</td>\n",
       "      <td>NaT</td>\n",
       "      <td>NaT</td>\n",
       "      <td>NaN</td>\n",
       "    </tr>\n",
       "    <tr>\n",
       "      <th>...</th>\n",
       "      <td>...</td>\n",
       "      <td>...</td>\n",
       "      <td>...</td>\n",
       "      <td>...</td>\n",
       "      <td>...</td>\n",
       "      <td>...</td>\n",
       "      <td>...</td>\n",
       "    </tr>\n",
       "    <tr>\n",
       "      <th>8243</th>\n",
       "      <td>21655.0</td>\n",
       "      <td>2021-02-28</td>\n",
       "      <td>Google / Other Search</td>\n",
       "      <td>NaT</td>\n",
       "      <td>NaT</td>\n",
       "      <td>NaT</td>\n",
       "      <td>NaN</td>\n",
       "    </tr>\n",
       "    <tr>\n",
       "      <th>8244</th>\n",
       "      <td>21656.0</td>\n",
       "      <td>2021-02-28</td>\n",
       "      <td>Google / Other Search</td>\n",
       "      <td>NaT</td>\n",
       "      <td>NaT</td>\n",
       "      <td>NaT</td>\n",
       "      <td>NaN</td>\n",
       "    </tr>\n",
       "    <tr>\n",
       "      <th>8245</th>\n",
       "      <td>21657.0</td>\n",
       "      <td>2021-02-28</td>\n",
       "      <td>Instagram</td>\n",
       "      <td>NaT</td>\n",
       "      <td>NaT</td>\n",
       "      <td>NaT</td>\n",
       "      <td>NaN</td>\n",
       "    </tr>\n",
       "    <tr>\n",
       "      <th>8246</th>\n",
       "      <td>21658.0</td>\n",
       "      <td>2021-02-28</td>\n",
       "      <td>Facebook</td>\n",
       "      <td>NaT</td>\n",
       "      <td>NaT</td>\n",
       "      <td>NaT</td>\n",
       "      <td>NaN</td>\n",
       "    </tr>\n",
       "    <tr>\n",
       "      <th>8247</th>\n",
       "      <td>21659.0</td>\n",
       "      <td>2021-02-28</td>\n",
       "      <td>Google / Other Search</td>\n",
       "      <td>NaT</td>\n",
       "      <td>NaT</td>\n",
       "      <td>NaT</td>\n",
       "      <td>NaN</td>\n",
       "    </tr>\n",
       "  </tbody>\n",
       "</table>\n",
       "<p>7011 rows × 7 columns</p>\n",
       "</div>"
      ],
      "text/plain": [
       "      Customer ID Registration Date                 Source  \\\n",
       "0          3024.0        2019-11-07                  Email   \n",
       "1          3040.0        2019-11-10                  Email   \n",
       "2          3041.0        2019-11-10                  Email   \n",
       "3          3042.0        2019-11-10                  Email   \n",
       "4          3049.0        2019-11-12                  Email   \n",
       "...           ...               ...                    ...   \n",
       "8243      21655.0        2021-02-28  Google / Other Search   \n",
       "8244      21656.0        2021-02-28  Google / Other Search   \n",
       "8245      21657.0        2021-02-28              Instagram   \n",
       "8246      21658.0        2021-02-28               Facebook   \n",
       "8247      21659.0        2021-02-28  Google / Other Search   \n",
       "\n",
       "     First Purchase Date Date Second Purchase Last Purchase  Total Orders  \n",
       "0                    NaT                  NaT           NaT           NaN  \n",
       "1                    NaT                  NaT           NaT           NaN  \n",
       "2                    NaT                  NaT           NaT           NaN  \n",
       "3                    NaT                  NaT           NaT           NaN  \n",
       "4                    NaT                  NaT           NaT           NaN  \n",
       "...                  ...                  ...           ...           ...  \n",
       "8243                 NaT                  NaT           NaT           NaN  \n",
       "8244                 NaT                  NaT           NaT           NaN  \n",
       "8245                 NaT                  NaT           NaT           NaN  \n",
       "8246                 NaT                  NaT           NaT           NaN  \n",
       "8247                 NaT                  NaT           NaT           NaN  \n",
       "\n",
       "[7011 rows x 7 columns]"
      ]
     },
     "execution_count": 991,
     "metadata": {},
     "output_type": "execute_result"
    }
   ],
   "source": [
    "data_ret_null.loc[data_ret_null['First Purchase Date'].isnull()]"
   ]
  },
  {
   "cell_type": "markdown",
   "metadata": {},
   "source": [
    "As you can see here, 7011 entries are recorded as not having purchased anything at all despite having registered!"
   ]
  },
  {
   "cell_type": "code",
   "execution_count": 992,
   "metadata": {},
   "outputs": [
    {
     "data": {
      "text/plain": [
       "0      NaT\n",
       "1      NaT\n",
       "2      NaT\n",
       "3      NaT\n",
       "4      NaT\n",
       "        ..\n",
       "8249   NaT\n",
       "8250   NaT\n",
       "8251   NaT\n",
       "8252   NaT\n",
       "8253   NaT\n",
       "Name: Date Second Purchase, Length: 7618, dtype: datetime64[ns]"
      ]
     },
     "execution_count": 992,
     "metadata": {},
     "output_type": "execute_result"
    }
   ],
   "source": [
    "data_ret_null['Date Second Purchase'].loc[data_ret_null['Date Second Purchase'].isnull()]"
   ]
  },
  {
   "cell_type": "markdown",
   "metadata": {},
   "source": [
    "We have an additional ~600 entries who apparently bought items only once. This gives further evidence that we need to investigate retention further."
   ]
  }
 ],
 "metadata": {
  "kernelspec": {
   "display_name": ".env",
   "language": "python",
   "name": "python3"
  },
  "language_info": {
   "codemirror_mode": {
    "name": "ipython",
    "version": 3
   },
   "file_extension": ".py",
   "mimetype": "text/x-python",
   "name": "python",
   "nbconvert_exporter": "python",
   "pygments_lexer": "ipython3",
   "version": "3.12.2"
  }
 },
 "nbformat": 4,
 "nbformat_minor": 2
}
