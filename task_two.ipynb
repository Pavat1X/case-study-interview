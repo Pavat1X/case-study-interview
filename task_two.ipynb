{
 "cells": [
  {
   "cell_type": "code",
   "execution_count": 476,
   "metadata": {},
   "outputs": [],
   "source": [
    "import pandas as pd\n",
    "import numpy as np"
   ]
  },
  {
   "cell_type": "markdown",
   "metadata": {},
   "source": [
    "### Importing and processing the data for analysis"
   ]
  },
  {
   "cell_type": "code",
   "execution_count": 477,
   "metadata": {},
   "outputs": [],
   "source": [
    "data = pd.read_excel('Datasheet - Conversions - Data Analysis.xlsx')"
   ]
  },
  {
   "cell_type": "code",
   "execution_count": 478,
   "metadata": {},
   "outputs": [
    {
     "data": {
      "text/html": [
       "<div>\n",
       "<style scoped>\n",
       "    .dataframe tbody tr th:only-of-type {\n",
       "        vertical-align: middle;\n",
       "    }\n",
       "\n",
       "    .dataframe tbody tr th {\n",
       "        vertical-align: top;\n",
       "    }\n",
       "\n",
       "    .dataframe thead th {\n",
       "        text-align: right;\n",
       "    }\n",
       "</style>\n",
       "<table border=\"1\" class=\"dataframe\">\n",
       "  <thead>\n",
       "    <tr style=\"text-align: right;\">\n",
       "      <th></th>\n",
       "      <th>Customer ID</th>\n",
       "      <th>Registration Date</th>\n",
       "      <th>Source</th>\n",
       "      <th>First Purchase Date</th>\n",
       "      <th>Date Second Purchase</th>\n",
       "      <th>Last Purchase</th>\n",
       "      <th>Total Orders</th>\n",
       "    </tr>\n",
       "  </thead>\n",
       "  <tbody>\n",
       "    <tr>\n",
       "      <th>0</th>\n",
       "      <td>3024.0</td>\n",
       "      <td>2019-11-07</td>\n",
       "      <td>Email</td>\n",
       "      <td>NaN</td>\n",
       "      <td>NaT</td>\n",
       "      <td>NaN</td>\n",
       "      <td>NaN</td>\n",
       "    </tr>\n",
       "    <tr>\n",
       "      <th>1</th>\n",
       "      <td>3040.0</td>\n",
       "      <td>2019-11-10</td>\n",
       "      <td>Email</td>\n",
       "      <td>NaN</td>\n",
       "      <td>NaT</td>\n",
       "      <td>NaN</td>\n",
       "      <td>NaN</td>\n",
       "    </tr>\n",
       "    <tr>\n",
       "      <th>2</th>\n",
       "      <td>3041.0</td>\n",
       "      <td>2019-11-10</td>\n",
       "      <td>Email</td>\n",
       "      <td>NaN</td>\n",
       "      <td>NaT</td>\n",
       "      <td>NaN</td>\n",
       "      <td>NaN</td>\n",
       "    </tr>\n",
       "    <tr>\n",
       "      <th>3</th>\n",
       "      <td>3042.0</td>\n",
       "      <td>2019-11-10</td>\n",
       "      <td>Email</td>\n",
       "      <td>NaN</td>\n",
       "      <td>NaT</td>\n",
       "      <td>NaN</td>\n",
       "      <td>NaN</td>\n",
       "    </tr>\n",
       "    <tr>\n",
       "      <th>4</th>\n",
       "      <td>3049.0</td>\n",
       "      <td>2019-11-12</td>\n",
       "      <td>Email</td>\n",
       "      <td>NaN</td>\n",
       "      <td>NaT</td>\n",
       "      <td>NaN</td>\n",
       "      <td>NaN</td>\n",
       "    </tr>\n",
       "  </tbody>\n",
       "</table>\n",
       "</div>"
      ],
      "text/plain": [
       "   Customer ID Registration Date Source First Purchase Date  \\\n",
       "0       3024.0        2019-11-07  Email                 NaN   \n",
       "1       3040.0        2019-11-10  Email                 NaN   \n",
       "2       3041.0        2019-11-10  Email                 NaN   \n",
       "3       3042.0        2019-11-10  Email                 NaN   \n",
       "4       3049.0        2019-11-12  Email                 NaN   \n",
       "\n",
       "  Date Second Purchase Last Purchase  Total Orders  \n",
       "0                  NaT           NaN           NaN  \n",
       "1                  NaT           NaN           NaN  \n",
       "2                  NaT           NaN           NaN  \n",
       "3                  NaT           NaN           NaN  \n",
       "4                  NaT           NaN           NaN  "
      ]
     },
     "execution_count": 478,
     "metadata": {},
     "output_type": "execute_result"
    }
   ],
   "source": [
    "data.head()"
   ]
  },
  {
   "cell_type": "markdown",
   "metadata": {},
   "source": [
    "### Checking data types for consistency"
   ]
  },
  {
   "cell_type": "code",
   "execution_count": 479,
   "metadata": {},
   "outputs": [
    {
     "data": {
      "text/plain": [
       "Customer ID                    float64\n",
       "Registration Date       datetime64[ns]\n",
       "Source                          object\n",
       "First Purchase Date             object\n",
       "Date Second Purchase    datetime64[ns]\n",
       "Last Purchase                   object\n",
       "Total Orders                   float64\n",
       "dtype: object"
      ]
     },
     "execution_count": 479,
     "metadata": {},
     "output_type": "execute_result"
    }
   ],
   "source": [
    "data.dtypes"
   ]
  },
  {
   "cell_type": "markdown",
   "metadata": {},
   "source": [
    "Changing the dtypes to relevant formats"
   ]
  },
  {
   "cell_type": "code",
   "execution_count": 480,
   "metadata": {},
   "outputs": [
    {
     "name": "stderr",
     "output_type": "stream",
     "text": [
      "/var/folders/qy/cs03qq_s3m771flt192p28hm0000gn/T/ipykernel_70538/2129289720.py:2: FutureWarning: ChainedAssignmentError: behaviour will change in pandas 3.0!\n",
      "You are setting values through chained assignment. Currently this works in certain cases, but when using Copy-on-Write (which will become the default behaviour in pandas 3.0) this will never work to update the original DataFrame or Series, because the intermediate object on which we are setting values will behave as a copy.\n",
      "A typical example is when you are setting values in a column of a DataFrame, like:\n",
      "\n",
      "df[\"col\"][row_indexer] = value\n",
      "\n",
      "Use `df.loc[row_indexer, \"col\"] = values` instead, to perform the assignment in a single step and ensure this keeps updating the original `df`.\n",
      "\n",
      "See the caveats in the documentation: https://pandas.pydata.org/pandas-docs/stable/user_guide/indexing.html#returning-a-view-versus-a-copy\n",
      "\n",
      "  data['Last Purchase'].loc[2286] = np.nan\n",
      "/var/folders/qy/cs03qq_s3m771flt192p28hm0000gn/T/ipykernel_70538/2129289720.py:2: SettingWithCopyWarning: \n",
      "A value is trying to be set on a copy of a slice from a DataFrame\n",
      "\n",
      "See the caveats in the documentation: https://pandas.pydata.org/pandas-docs/stable/user_guide/indexing.html#returning-a-view-versus-a-copy\n",
      "  data['Last Purchase'].loc[2286] = np.nan\n"
     ]
    }
   ],
   "source": [
    "## remove weird missing entry\n",
    "data['Last Purchase'].loc[2286] = np.nan"
   ]
  },
  {
   "cell_type": "code",
   "execution_count": 481,
   "metadata": {},
   "outputs": [],
   "source": [
    "data['Source'] = data['Source'].astype('str')\n",
    "data['First Purchase Date'] = data['First Purchase Date'].astype('datetime64[ns]')\n",
    "data['Last Purchase'] = data['Last Purchase'].astype('datetime64[ns]')"
   ]
  },
  {
   "cell_type": "code",
   "execution_count": 482,
   "metadata": {},
   "outputs": [
    {
     "data": {
      "text/html": [
       "<div>\n",
       "<style scoped>\n",
       "    .dataframe tbody tr th:only-of-type {\n",
       "        vertical-align: middle;\n",
       "    }\n",
       "\n",
       "    .dataframe tbody tr th {\n",
       "        vertical-align: top;\n",
       "    }\n",
       "\n",
       "    .dataframe thead th {\n",
       "        text-align: right;\n",
       "    }\n",
       "</style>\n",
       "<table border=\"1\" class=\"dataframe\">\n",
       "  <thead>\n",
       "    <tr style=\"text-align: right;\">\n",
       "      <th></th>\n",
       "      <th>Customer ID</th>\n",
       "      <th>Registration Date</th>\n",
       "      <th>Source</th>\n",
       "      <th>First Purchase Date</th>\n",
       "      <th>Date Second Purchase</th>\n",
       "      <th>Last Purchase</th>\n",
       "      <th>Total Orders</th>\n",
       "    </tr>\n",
       "  </thead>\n",
       "  <tbody>\n",
       "    <tr>\n",
       "      <th>0</th>\n",
       "      <td>3024.0</td>\n",
       "      <td>2019-11-07</td>\n",
       "      <td>Email</td>\n",
       "      <td>NaT</td>\n",
       "      <td>NaT</td>\n",
       "      <td>NaT</td>\n",
       "      <td>NaN</td>\n",
       "    </tr>\n",
       "    <tr>\n",
       "      <th>1</th>\n",
       "      <td>3040.0</td>\n",
       "      <td>2019-11-10</td>\n",
       "      <td>Email</td>\n",
       "      <td>NaT</td>\n",
       "      <td>NaT</td>\n",
       "      <td>NaT</td>\n",
       "      <td>NaN</td>\n",
       "    </tr>\n",
       "    <tr>\n",
       "      <th>2</th>\n",
       "      <td>3041.0</td>\n",
       "      <td>2019-11-10</td>\n",
       "      <td>Email</td>\n",
       "      <td>NaT</td>\n",
       "      <td>NaT</td>\n",
       "      <td>NaT</td>\n",
       "      <td>NaN</td>\n",
       "    </tr>\n",
       "    <tr>\n",
       "      <th>3</th>\n",
       "      <td>3042.0</td>\n",
       "      <td>2019-11-10</td>\n",
       "      <td>Email</td>\n",
       "      <td>NaT</td>\n",
       "      <td>NaT</td>\n",
       "      <td>NaT</td>\n",
       "      <td>NaN</td>\n",
       "    </tr>\n",
       "    <tr>\n",
       "      <th>4</th>\n",
       "      <td>3049.0</td>\n",
       "      <td>2019-11-12</td>\n",
       "      <td>Email</td>\n",
       "      <td>NaT</td>\n",
       "      <td>NaT</td>\n",
       "      <td>NaT</td>\n",
       "      <td>NaN</td>\n",
       "    </tr>\n",
       "  </tbody>\n",
       "</table>\n",
       "</div>"
      ],
      "text/plain": [
       "   Customer ID Registration Date Source First Purchase Date  \\\n",
       "0       3024.0        2019-11-07  Email                 NaT   \n",
       "1       3040.0        2019-11-10  Email                 NaT   \n",
       "2       3041.0        2019-11-10  Email                 NaT   \n",
       "3       3042.0        2019-11-10  Email                 NaT   \n",
       "4       3049.0        2019-11-12  Email                 NaT   \n",
       "\n",
       "  Date Second Purchase Last Purchase  Total Orders  \n",
       "0                  NaT           NaT           NaN  \n",
       "1                  NaT           NaT           NaN  \n",
       "2                  NaT           NaT           NaN  \n",
       "3                  NaT           NaT           NaN  \n",
       "4                  NaT           NaT           NaN  "
      ]
     },
     "execution_count": 482,
     "metadata": {},
     "output_type": "execute_result"
    }
   ],
   "source": [
    "data.head()"
   ]
  },
  {
   "cell_type": "markdown",
   "metadata": {},
   "source": [
    "### Analysis of different cohorts"
   ]
  },
  {
   "cell_type": "markdown",
   "metadata": {},
   "source": [
    "##### Total order averages over the entire year"
   ]
  },
  {
   "cell_type": "code",
   "execution_count": 483,
   "metadata": {},
   "outputs": [
    {
     "data": {
      "text/html": [
       "<div>\n",
       "<style scoped>\n",
       "    .dataframe tbody tr th:only-of-type {\n",
       "        vertical-align: middle;\n",
       "    }\n",
       "\n",
       "    .dataframe tbody tr th {\n",
       "        vertical-align: top;\n",
       "    }\n",
       "\n",
       "    .dataframe thead th {\n",
       "        text-align: right;\n",
       "    }\n",
       "</style>\n",
       "<table border=\"1\" class=\"dataframe\">\n",
       "  <thead>\n",
       "    <tr style=\"text-align: right;\">\n",
       "      <th></th>\n",
       "      <th>Total Orders</th>\n",
       "    </tr>\n",
       "    <tr>\n",
       "      <th>Source</th>\n",
       "      <th></th>\n",
       "    </tr>\n",
       "  </thead>\n",
       "  <tbody>\n",
       "    <tr>\n",
       "      <th>Email</th>\n",
       "      <td>4.677419</td>\n",
       "    </tr>\n",
       "    <tr>\n",
       "      <th>Facebook</th>\n",
       "      <td>4.478070</td>\n",
       "    </tr>\n",
       "    <tr>\n",
       "      <th>Google / Other Search</th>\n",
       "      <td>3.883333</td>\n",
       "    </tr>\n",
       "    <tr>\n",
       "      <th>Instagram</th>\n",
       "      <td>3.352941</td>\n",
       "    </tr>\n",
       "    <tr>\n",
       "      <th>Pinterest</th>\n",
       "      <td>2.000000</td>\n",
       "    </tr>\n",
       "    <tr>\n",
       "      <th>Referral</th>\n",
       "      <td>4.554054</td>\n",
       "    </tr>\n",
       "    <tr>\n",
       "      <th>nan</th>\n",
       "      <td>5.200000</td>\n",
       "    </tr>\n",
       "  </tbody>\n",
       "</table>\n",
       "</div>"
      ],
      "text/plain": [
       "                       Total Orders\n",
       "Source                             \n",
       "Email                      4.677419\n",
       "Facebook                   4.478070\n",
       "Google / Other Search      3.883333\n",
       "Instagram                  3.352941\n",
       "Pinterest                  2.000000\n",
       "Referral                   4.554054\n",
       "nan                        5.200000"
      ]
     },
     "execution_count": 483,
     "metadata": {},
     "output_type": "execute_result"
    }
   ],
   "source": [
    "## copying the original data for manipulation (remove missing data)\n",
    "data_mean = data.copy(deep=True)\n",
    "data_mean = data_mean.dropna()\n",
    "\n",
    "## calculating the table of average total orders for each source\n",
    "data_mean[['Total Orders', 'Source']].groupby('Source').mean()"
   ]
  },
  {
   "cell_type": "markdown",
   "metadata": {},
   "source": [
    "From the table above, we can see that from all the channels, Email, Referral, and Facebook drive the most conversion (and possibly traffic). This may be due to the nature of the wholesale market where the demand side is composed of retail businesses or similar, whose employees and owners usually operate in these spaces. Interesting observation is Instagram and Pinterest, which could signify other cohorts within the demand side, such as consumers.\n",
    "\n",
    "Further data on traffic from source, click-through rates and user journey from channel to website would be nice, as it would allow me to know more about how these channels bring in customers and what the customers are like. This will all contribute to tailoring the product/user experience to the customers."
   ]
  },
  {
   "cell_type": "markdown",
   "metadata": {},
   "source": [
    "##### Breaking down the total order averages for each month"
   ]
  },
  {
   "cell_type": "markdown",
   "metadata": {},
   "source": [
    "creating a melted dataframe to stack all purchase occurrences"
   ]
  },
  {
   "cell_type": "code",
   "execution_count": 484,
   "metadata": {},
   "outputs": [],
   "source": [
    "data_month = data[['Customer ID', 'First Purchase Date', 'Date Second Purchase', 'Last Purchase']].copy(deep=True)\n",
    "\n",
    "data_month = data_month.rename(columns={'First Purchase Date': 'purchase.1',\n",
    "                           'Date Second Purchase': 'purchase.2',\n",
    "                           'Last Purchase': 'purchase.3'})\n",
    "\n",
    "data_month = data_month.melt('Customer ID', value_name='purchase')\n",
    "\n",
    "data_month = data_month.drop(columns='variable')\n",
    "\n",
    "data_month = data_month.set_index('Customer ID')"
   ]
  },
  {
   "cell_type": "markdown",
   "metadata": {},
   "source": [
    "creating an accessible dictionary of filtered tables by month"
   ]
  },
  {
   "cell_type": "code",
   "execution_count": 485,
   "metadata": {},
   "outputs": [],
   "source": [
    "data_month = data_month.dropna()\n",
    "\n",
    "months_list = [1, 2, 3, 4, 5, 6, 7, 8, 9, 10, 11, 12]\n",
    "\n",
    "data_month_dict = {}\n",
    "\n",
    "for i in months_list:\n",
    "    data_month_dict[i] = data_month[data_month['purchase'].dt.month == i]\n"
   ]
  },
  {
   "cell_type": "markdown",
   "metadata": {},
   "source": [
    "aggregating the data by year and month"
   ]
  },
  {
   "cell_type": "code",
   "execution_count": 486,
   "metadata": {},
   "outputs": [
    {
     "data": {
      "text/html": [
       "<div>\n",
       "<style scoped>\n",
       "    .dataframe tbody tr th:only-of-type {\n",
       "        vertical-align: middle;\n",
       "    }\n",
       "\n",
       "    .dataframe tbody tr th {\n",
       "        vertical-align: top;\n",
       "    }\n",
       "\n",
       "    .dataframe thead tr th {\n",
       "        text-align: left;\n",
       "    }\n",
       "\n",
       "    .dataframe thead tr:last-of-type th {\n",
       "        text-align: right;\n",
       "    }\n",
       "</style>\n",
       "<table border=\"1\" class=\"dataframe\">\n",
       "  <thead>\n",
       "    <tr>\n",
       "      <th></th>\n",
       "      <th></th>\n",
       "      <th>purchase</th>\n",
       "    </tr>\n",
       "    <tr>\n",
       "      <th></th>\n",
       "      <th></th>\n",
       "      <th>count</th>\n",
       "    </tr>\n",
       "    <tr>\n",
       "      <th>year</th>\n",
       "      <th>month</th>\n",
       "      <th></th>\n",
       "    </tr>\n",
       "  </thead>\n",
       "  <tbody>\n",
       "    <tr>\n",
       "      <th rowspan=\"12\" valign=\"top\">2020</th>\n",
       "      <th>1</th>\n",
       "      <td>21</td>\n",
       "    </tr>\n",
       "    <tr>\n",
       "      <th>2</th>\n",
       "      <td>43</td>\n",
       "    </tr>\n",
       "    <tr>\n",
       "      <th>3</th>\n",
       "      <td>18</td>\n",
       "    </tr>\n",
       "    <tr>\n",
       "      <th>4</th>\n",
       "      <td>58</td>\n",
       "    </tr>\n",
       "    <tr>\n",
       "      <th>5</th>\n",
       "      <td>112</td>\n",
       "    </tr>\n",
       "    <tr>\n",
       "      <th>6</th>\n",
       "      <td>195</td>\n",
       "    </tr>\n",
       "    <tr>\n",
       "      <th>7</th>\n",
       "      <td>204</td>\n",
       "    </tr>\n",
       "    <tr>\n",
       "      <th>8</th>\n",
       "      <td>218</td>\n",
       "    </tr>\n",
       "    <tr>\n",
       "      <th>9</th>\n",
       "      <td>249</td>\n",
       "    </tr>\n",
       "    <tr>\n",
       "      <th>10</th>\n",
       "      <td>270</td>\n",
       "    </tr>\n",
       "    <tr>\n",
       "      <th>11</th>\n",
       "      <td>311</td>\n",
       "    </tr>\n",
       "    <tr>\n",
       "      <th>12</th>\n",
       "      <td>114</td>\n",
       "    </tr>\n",
       "    <tr>\n",
       "      <th rowspan=\"4\" valign=\"top\">2021</th>\n",
       "      <th>1</th>\n",
       "      <td>284</td>\n",
       "    </tr>\n",
       "    <tr>\n",
       "      <th>2</th>\n",
       "      <td>378</td>\n",
       "    </tr>\n",
       "    <tr>\n",
       "      <th>3</th>\n",
       "      <td>393</td>\n",
       "    </tr>\n",
       "    <tr>\n",
       "      <th>4</th>\n",
       "      <td>255</td>\n",
       "    </tr>\n",
       "  </tbody>\n",
       "</table>\n",
       "</div>"
      ],
      "text/plain": [
       "           purchase\n",
       "              count\n",
       "year month         \n",
       "2020 1           21\n",
       "     2           43\n",
       "     3           18\n",
       "     4           58\n",
       "     5          112\n",
       "     6          195\n",
       "     7          204\n",
       "     8          218\n",
       "     9          249\n",
       "     10         270\n",
       "     11         311\n",
       "     12         114\n",
       "2021 1          284\n",
       "     2          378\n",
       "     3          393\n",
       "     4          255"
      ]
     },
     "execution_count": 486,
     "metadata": {},
     "output_type": "execute_result"
    }
   ],
   "source": [
    "data_month = data_month.groupby([data_month['purchase'].dt.year.rename('year'), data_month['purchase'].dt.month.rename('month')]).agg({'count'})\n",
    "data_month = data_month.drop(index=1970)\n",
    "data_month"
   ]
  },
  {
   "cell_type": "markdown",
   "metadata": {},
   "source": [
    "visualizing the trend"
   ]
  },
  {
   "cell_type": "code",
   "execution_count": 487,
   "metadata": {},
   "outputs": [
    {
     "data": {
      "text/plain": [
       "<Axes: title={'center': 'Purchases over time in 2020'}, xlabel='month', ylabel='No. of purchases'>"
      ]
     },
     "execution_count": 487,
     "metadata": {},
     "output_type": "execute_result"
    },
    {
     "data": {
      "image/png": "[encoded data removed]",
      "text/plain": [
       "<Figure size 640x480 with 1 Axes>"
      ]
     },
     "metadata": {},
     "output_type": "display_data"
    }
   ],
   "source": [
    "data_month.loc[2020].plot(ylabel='No. of purchases', legend=False, title='Purchases over time in 2020')"
   ]
  },
  {
   "cell_type": "code",
   "execution_count": 488,
   "metadata": {},
   "outputs": [
    {
     "data": {
      "text/plain": [
       "<Axes: title={'center': 'Purchases over time in 2021'}, xlabel='month', ylabel='No. of purchases'>"
      ]
     },
     "execution_count": 488,
     "metadata": {},
     "output_type": "execute_result"
    },
    {
     "data": {
      "image/png": "[encoded data removed]",
      "text/plain": [
       "<Figure size 640x480 with 1 Axes>"
      ]
     },
     "metadata": {},
     "output_type": "display_data"
    }
   ],
   "source": [
    "data_month.loc[2021].plot(ylabel='No. of purchases', legend=False, title='Purchases over time in 2021')"
   ]
  },
  {
   "cell_type": "markdown",
   "metadata": {},
   "source": [
    "Here, you can see that user purchase numbers fluctuate over the course of the year, suggesting some kind of seasonality. A more plausible reasoning is that the wholesale market is not a high frequency marketplace (think Uber, Deliveroo, etc), but a low frequency marketplace (think Healthcare, Insurance, etc.). This means that purchasing frequency will be very needs-based and situational. What we can do is to keep them constantly in the loop with direct-to-consumer marketing campaigns to remind them of our existence and cross-sell as much as possible.\n",
    "\n",
    "data on cross-purchasing behavior would be good for this."
   ]
  },
  {
   "cell_type": "markdown",
   "metadata": {},
   "source": [
    "##### Speed of conversion from clicking through"
   ]
  },
  {
   "cell_type": "code",
   "execution_count": 489,
   "metadata": {},
   "outputs": [],
   "source": [
    "## get in dt.days the difference between data['Registration Date']\n",
    "## and data['First Purchase Date']\n",
    "\n",
    "data_ret = data.copy(deep=True)\n",
    "data_ret = data_ret.dropna()\n",
    "data_ret = data_ret.reset_index()\n",
    "data_ret['days_to_purchase'] = (data_ret['First Purchase Date'] - data_ret['Registration Date']).dt.days\n",
    "data_ret['days_to_purchase_2'] = (data_ret['Date Second Purchase'] - data_ret['First Purchase Date']).dt.days\n",
    "data_ret['days_to_purchase_3'] = (data_ret['Last Purchase'] - data_ret['Date Second Purchase']).dt.days\n",
    "data_ret['first_to_last_purchase'] = (data_ret['Last Purchase'] - data_ret['First Purchase Date']).dt.days\n",
    "\n",
    "data_ret = data_ret[['Customer ID', 'days_to_purchase', 'days_to_purchase_2', 'days_to_purchase_3', 'first_to_last_purchase']]"
   ]
  },
  {
   "cell_type": "code",
   "execution_count": 492,
   "metadata": {},
   "outputs": [
    {
     "data": {
      "text/plain": [
       "<Axes: >"
      ]
     },
     "execution_count": 492,
     "metadata": {},
     "output_type": "execute_result"
    },
    {
     "data": {
      "image/png": "[encoded data removed]",
      "text/plain": [
       "<Figure size 640x480 with 1 Axes>"
      ]
     },
     "metadata": {},
     "output_type": "display_data"
    }
   ],
   "source": [
    "data_ret_mean = pd.DataFrame(data_ret[['days_to_purchase', 'days_to_purchase_2', 'days_to_purchase_3', 'first_to_last_purchase']].mean())\n",
    "\n",
    "data_ret_mean = data_ret_mean.rename(columns={0: 'Average days to next purchase'})\n",
    "\n",
    "data_ret_mean.plot.bar()"
   ]
  },
  {
   "cell_type": "markdown",
   "metadata": {},
   "source": []
  },
  {
   "cell_type": "markdown",
   "metadata": {},
   "source": [
    "##### Retention Behavior"
   ]
  },
  {
   "cell_type": "code",
   "execution_count": null,
   "metadata": {},
   "outputs": [],
   "source": []
  }
 ],
 "metadata": {
  "kernelspec": {
   "display_name": ".env",
   "language": "python",
   "name": "python3"
  },
  "language_info": {
   "codemirror_mode": {
    "name": "ipython",
    "version": 3
   },
   "file_extension": ".py",
   "mimetype": "text/x-python",
   "name": "python",
   "nbconvert_exporter": "python",
   "pygments_lexer": "ipython3",
   "version": "3.12.2"
  }
 },
 "nbformat": 4,
 "nbformat_minor": 2
}
